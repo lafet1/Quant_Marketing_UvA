{
 "cells": [
  {
   "cell_type": "code",
   "execution_count": 2,
   "metadata": {},
   "outputs": [],
   "source": [
    "# Quantitative Marketing\n",
    "# Assignment 1 - Avazu Kaggle competition\n",
    "\n",
    "import pandas as pd\n",
    "import numpy as np\n",
    "import matplotlib.pyplot as plt\n",
    "from sklearn.naive_bayes import MultinomialNB, BernoulliNB\n",
    "from sklearn.preprocessing import LabelEncoder\n",
    "from sklearn.model_selection import train_test_split\n",
    "from sklearn.metrics import log_loss\n"
   ]
  },
  {
   "cell_type": "code",
   "execution_count": 50,
   "metadata": {},
   "outputs": [],
   "source": [
    "# now we set up the iteration and model the entire dataset\n",
    "chunk_iter = pd.read_csv(\"trainshuf.csv\", chunksize=10 ** 5, names=['id', 'click', 'hour', 'C1', 'banner_pos', 'site_id', \\\n",
    "                                                                      'site_domain', 'site_category', 'app_id','app_domain', \\\n",
    "                                                                      'app_category', 'device_id', 'device_ip', \\\n",
    "                                                                      'device_model', 'device_type', 'device_conn_type', \\\n",
    "                                                                      'C14', 'C15', 'C16', 'C17', 'C18', 'C19', 'C20', 'C21'])\n",
    "\n",
    "# we are not using a prior and we implement binarization afterwards\n",
    "# the label encoder in current state is a remnant of prevous versions that would be tedious to remove\n",
    "nb_train = BernoulliNB(binarize=1) \n",
    "le = LabelEncoder()"
   ]
  },
  {
   "cell_type": "code",
   "execution_count": 51,
   "metadata": {
    "collapsed": true
   },
   "outputs": [],
   "source": [
    "# to get these values we need to change the for loop\n",
    "results = pd.DataFrame(np.zeros((10 * 43, 3)), columns=['current test CTR', 'predicted CTR', 'SSR'])\n"
   ]
  },
  {
   "cell_type": "code",
   "execution_count": 5,
   "metadata": {
    "collapsed": true
   },
   "outputs": [],
   "source": [
    "#dictionaries for splitting the dataset into chunks\n",
    "df = {}\n",
    "for i in range(1, 46):\n",
    "    df[\"train{0}\".format(i)] = chunk_iter.get_chunk()\n"
   ]
  },
  {
   "cell_type": "code",
   "execution_count": 7,
   "metadata": {},
   "outputs": [
    {
     "data": {
      "text/plain": [
       "dict_keys(['train1', 'train2', 'train3', 'train4', 'train5', 'train6', 'train7', 'train8', 'train9', 'train10', 'train11', 'train12', 'train13', 'train14', 'train15', 'train16', 'train17', 'train18', 'train19', 'train20', 'train21', 'train22', 'train23', 'train24', 'train25', 'train26', 'train27', 'train28', 'train29', 'train30', 'train31', 'train32', 'train33', 'train34', 'train35', 'train36', 'train37', 'train38', 'train39', 'train40', 'train41', 'train42', 'train43', 'train44', 'train45'])"
      ]
     },
     "execution_count": 7,
     "metadata": {},
     "output_type": "execute_result"
    }
   ],
   "source": [
    "df.keys()"
   ]
  },
  {
   "cell_type": "code",
   "execution_count": 8,
   "metadata": {},
   "outputs": [
    {
     "data": {
      "text/html": [
       "<div>\n",
       "<style scoped>\n",
       "    .dataframe tbody tr th:only-of-type {\n",
       "        vertical-align: middle;\n",
       "    }\n",
       "\n",
       "    .dataframe tbody tr th {\n",
       "        vertical-align: top;\n",
       "    }\n",
       "\n",
       "    .dataframe thead th {\n",
       "        text-align: right;\n",
       "    }\n",
       "</style>\n",
       "<table border=\"1\" class=\"dataframe\">\n",
       "  <thead>\n",
       "    <tr style=\"text-align: right;\">\n",
       "      <th></th>\n",
       "      <th>id</th>\n",
       "      <th>click</th>\n",
       "      <th>hour</th>\n",
       "      <th>C1</th>\n",
       "      <th>banner_pos</th>\n",
       "      <th>site_id</th>\n",
       "      <th>site_domain</th>\n",
       "      <th>site_category</th>\n",
       "      <th>app_id</th>\n",
       "      <th>app_domain</th>\n",
       "      <th>...</th>\n",
       "      <th>device_type</th>\n",
       "      <th>device_conn_type</th>\n",
       "      <th>C14</th>\n",
       "      <th>C15</th>\n",
       "      <th>C16</th>\n",
       "      <th>C17</th>\n",
       "      <th>C18</th>\n",
       "      <th>C19</th>\n",
       "      <th>C20</th>\n",
       "      <th>C21</th>\n",
       "    </tr>\n",
       "  </thead>\n",
       "  <tbody>\n",
       "    <tr>\n",
       "      <th>0</th>\n",
       "      <td>12300420997327359576</td>\n",
       "      <td>0</td>\n",
       "      <td>14102100</td>\n",
       "      <td>1005</td>\n",
       "      <td>1</td>\n",
       "      <td>7dd19f44</td>\n",
       "      <td>9690165f</td>\n",
       "      <td>f028772b</td>\n",
       "      <td>ecad2386</td>\n",
       "      <td>7801e8d9</td>\n",
       "      <td>...</td>\n",
       "      <td>1</td>\n",
       "      <td>0</td>\n",
       "      <td>20596</td>\n",
       "      <td>320</td>\n",
       "      <td>50</td>\n",
       "      <td>2161</td>\n",
       "      <td>0</td>\n",
       "      <td>35</td>\n",
       "      <td>-1</td>\n",
       "      <td>157</td>\n",
       "    </tr>\n",
       "    <tr>\n",
       "      <th>1</th>\n",
       "      <td>18161237095837920981</td>\n",
       "      <td>0</td>\n",
       "      <td>14102107</td>\n",
       "      <td>1005</td>\n",
       "      <td>0</td>\n",
       "      <td>1fbe01fe</td>\n",
       "      <td>f3845767</td>\n",
       "      <td>28905ebd</td>\n",
       "      <td>ecad2386</td>\n",
       "      <td>7801e8d9</td>\n",
       "      <td>...</td>\n",
       "      <td>1</td>\n",
       "      <td>0</td>\n",
       "      <td>15708</td>\n",
       "      <td>320</td>\n",
       "      <td>50</td>\n",
       "      <td>1722</td>\n",
       "      <td>0</td>\n",
       "      <td>35</td>\n",
       "      <td>100084</td>\n",
       "      <td>79</td>\n",
       "    </tr>\n",
       "    <tr>\n",
       "      <th>2</th>\n",
       "      <td>2432310864658752875</td>\n",
       "      <td>1</td>\n",
       "      <td>14102608</td>\n",
       "      <td>1005</td>\n",
       "      <td>1</td>\n",
       "      <td>e151e245</td>\n",
       "      <td>7e091613</td>\n",
       "      <td>f028772b</td>\n",
       "      <td>ecad2386</td>\n",
       "      <td>7801e8d9</td>\n",
       "      <td>...</td>\n",
       "      <td>1</td>\n",
       "      <td>0</td>\n",
       "      <td>22224</td>\n",
       "      <td>320</td>\n",
       "      <td>50</td>\n",
       "      <td>2561</td>\n",
       "      <td>0</td>\n",
       "      <td>687</td>\n",
       "      <td>-1</td>\n",
       "      <td>51</td>\n",
       "    </tr>\n",
       "    <tr>\n",
       "      <th>3</th>\n",
       "      <td>11406021614615161880</td>\n",
       "      <td>0</td>\n",
       "      <td>14102603</td>\n",
       "      <td>1005</td>\n",
       "      <td>0</td>\n",
       "      <td>1fbe01fe</td>\n",
       "      <td>f3845767</td>\n",
       "      <td>28905ebd</td>\n",
       "      <td>ecad2386</td>\n",
       "      <td>7801e8d9</td>\n",
       "      <td>...</td>\n",
       "      <td>1</td>\n",
       "      <td>2</td>\n",
       "      <td>15703</td>\n",
       "      <td>320</td>\n",
       "      <td>50</td>\n",
       "      <td>1722</td>\n",
       "      <td>0</td>\n",
       "      <td>35</td>\n",
       "      <td>-1</td>\n",
       "      <td>79</td>\n",
       "    </tr>\n",
       "    <tr>\n",
       "      <th>4</th>\n",
       "      <td>2045866933268653706</td>\n",
       "      <td>0</td>\n",
       "      <td>14102410</td>\n",
       "      <td>1005</td>\n",
       "      <td>0</td>\n",
       "      <td>85f751fd</td>\n",
       "      <td>c4e18dd6</td>\n",
       "      <td>50e219e0</td>\n",
       "      <td>92f5800b</td>\n",
       "      <td>ae637522</td>\n",
       "      <td>...</td>\n",
       "      <td>1</td>\n",
       "      <td>3</td>\n",
       "      <td>21191</td>\n",
       "      <td>320</td>\n",
       "      <td>50</td>\n",
       "      <td>2424</td>\n",
       "      <td>1</td>\n",
       "      <td>161</td>\n",
       "      <td>100189</td>\n",
       "      <td>71</td>\n",
       "    </tr>\n",
       "  </tbody>\n",
       "</table>\n",
       "<p>5 rows × 24 columns</p>\n",
       "</div>"
      ],
      "text/plain": [
       "                     id  click      hour    C1  banner_pos   site_id  \\\n",
       "0  12300420997327359576      0  14102100  1005           1  7dd19f44   \n",
       "1  18161237095837920981      0  14102107  1005           0  1fbe01fe   \n",
       "2   2432310864658752875      1  14102608  1005           1  e151e245   \n",
       "3  11406021614615161880      0  14102603  1005           0  1fbe01fe   \n",
       "4   2045866933268653706      0  14102410  1005           0  85f751fd   \n",
       "\n",
       "  site_domain site_category    app_id app_domain ...  device_type  \\\n",
       "0    9690165f      f028772b  ecad2386   7801e8d9 ...            1   \n",
       "1    f3845767      28905ebd  ecad2386   7801e8d9 ...            1   \n",
       "2    7e091613      f028772b  ecad2386   7801e8d9 ...            1   \n",
       "3    f3845767      28905ebd  ecad2386   7801e8d9 ...            1   \n",
       "4    c4e18dd6      50e219e0  92f5800b   ae637522 ...            1   \n",
       "\n",
       "  device_conn_type    C14  C15  C16   C17  C18  C19     C20  C21  \n",
       "0                0  20596  320   50  2161    0   35      -1  157  \n",
       "1                0  15708  320   50  1722    0   35  100084   79  \n",
       "2                0  22224  320   50  2561    0  687      -1   51  \n",
       "3                2  15703  320   50  1722    0   35      -1   79  \n",
       "4                3  21191  320   50  2424    1  161  100189   71  \n",
       "\n",
       "[5 rows x 24 columns]"
      ]
     },
     "execution_count": 8,
     "metadata": {},
     "output_type": "execute_result"
    }
   ],
   "source": [
    "df['train1'].head()"
   ]
  },
  {
   "cell_type": "code",
   "execution_count": null,
   "metadata": {},
   "outputs": [],
   "source": [
    "# after we load the chunks we need to change the variable types\n",
    "    \n",
    "for j in range(1, 46):\n",
    "    \n",
    "    d = df[\"train{0}\".format(j)]\n",
    "    d = d.drop('id', axis=1)\n",
    "    d = d.drop('C1', axis=1)\n",
    "    d = d.drop('C14', axis=1)\n",
    "    hours = [str(k)[-2:] for k in d['hour']]\n",
    "    d['hours_clean'] = hours\n",
    "    d = d.drop('hour', axis=1)\n",
    "    d.loc[:, 'C20'] = d.loc[:, 'C20'] + 1 # there are values -1 and those are not allowed in NB\n",
    "    \n",
    "    for k in d.loc[:, 'site_id':'device_model'].keys():\n",
    "        le.fit(d.loc[:, k].unique())\n",
    "        d.loc[:, k] = le.transform(d.loc[:, k])\n",
    "    \n",
    "    df[\"train{0}\".format(j)] = d\n",
    "    \n",
    "    print(j)"
   ]
  },
  {
   "cell_type": "code",
   "execution_count": 10,
   "metadata": {},
   "outputs": [
    {
     "data": {
      "text/html": [
       "<div>\n",
       "<style scoped>\n",
       "    .dataframe tbody tr th:only-of-type {\n",
       "        vertical-align: middle;\n",
       "    }\n",
       "\n",
       "    .dataframe tbody tr th {\n",
       "        vertical-align: top;\n",
       "    }\n",
       "\n",
       "    .dataframe thead th {\n",
       "        text-align: right;\n",
       "    }\n",
       "</style>\n",
       "<table border=\"1\" class=\"dataframe\">\n",
       "  <thead>\n",
       "    <tr style=\"text-align: right;\">\n",
       "      <th></th>\n",
       "      <th>click</th>\n",
       "      <th>banner_pos</th>\n",
       "      <th>site_id</th>\n",
       "      <th>site_domain</th>\n",
       "      <th>site_category</th>\n",
       "      <th>app_id</th>\n",
       "      <th>app_domain</th>\n",
       "      <th>app_category</th>\n",
       "      <th>device_id</th>\n",
       "      <th>device_ip</th>\n",
       "      <th>...</th>\n",
       "      <th>device_type</th>\n",
       "      <th>device_conn_type</th>\n",
       "      <th>C15</th>\n",
       "      <th>C16</th>\n",
       "      <th>C17</th>\n",
       "      <th>C18</th>\n",
       "      <th>C19</th>\n",
       "      <th>C20</th>\n",
       "      <th>C21</th>\n",
       "      <th>hours_clean</th>\n",
       "    </tr>\n",
       "  </thead>\n",
       "  <tbody>\n",
       "    <tr>\n",
       "      <th>4400000</th>\n",
       "      <td>0</td>\n",
       "      <td>0</td>\n",
       "      <td>771</td>\n",
       "      <td>1028</td>\n",
       "      <td>5</td>\n",
       "      <td>293</td>\n",
       "      <td>13</td>\n",
       "      <td>18</td>\n",
       "      <td>9783</td>\n",
       "      <td>66825</td>\n",
       "      <td>...</td>\n",
       "      <td>1</td>\n",
       "      <td>2</td>\n",
       "      <td>320</td>\n",
       "      <td>50</td>\n",
       "      <td>2515</td>\n",
       "      <td>1</td>\n",
       "      <td>161</td>\n",
       "      <td>100190</td>\n",
       "      <td>71</td>\n",
       "      <td>14</td>\n",
       "    </tr>\n",
       "    <tr>\n",
       "      <th>4400001</th>\n",
       "      <td>0</td>\n",
       "      <td>0</td>\n",
       "      <td>178</td>\n",
       "      <td>1247</td>\n",
       "      <td>1</td>\n",
       "      <td>1197</td>\n",
       "      <td>39</td>\n",
       "      <td>0</td>\n",
       "      <td>11386</td>\n",
       "      <td>32448</td>\n",
       "      <td>...</td>\n",
       "      <td>1</td>\n",
       "      <td>0</td>\n",
       "      <td>320</td>\n",
       "      <td>50</td>\n",
       "      <td>761</td>\n",
       "      <td>3</td>\n",
       "      <td>175</td>\n",
       "      <td>0</td>\n",
       "      <td>23</td>\n",
       "      <td>00</td>\n",
       "    </tr>\n",
       "    <tr>\n",
       "      <th>4400002</th>\n",
       "      <td>0</td>\n",
       "      <td>0</td>\n",
       "      <td>771</td>\n",
       "      <td>1028</td>\n",
       "      <td>5</td>\n",
       "      <td>748</td>\n",
       "      <td>60</td>\n",
       "      <td>2</td>\n",
       "      <td>11386</td>\n",
       "      <td>60919</td>\n",
       "      <td>...</td>\n",
       "      <td>1</td>\n",
       "      <td>3</td>\n",
       "      <td>320</td>\n",
       "      <td>50</td>\n",
       "      <td>2424</td>\n",
       "      <td>1</td>\n",
       "      <td>161</td>\n",
       "      <td>100194</td>\n",
       "      <td>71</td>\n",
       "      <td>02</td>\n",
       "    </tr>\n",
       "    <tr>\n",
       "      <th>4400003</th>\n",
       "      <td>0</td>\n",
       "      <td>0</td>\n",
       "      <td>771</td>\n",
       "      <td>1028</td>\n",
       "      <td>5</td>\n",
       "      <td>1249</td>\n",
       "      <td>4</td>\n",
       "      <td>2</td>\n",
       "      <td>11386</td>\n",
       "      <td>52932</td>\n",
       "      <td>...</td>\n",
       "      <td>1</td>\n",
       "      <td>2</td>\n",
       "      <td>320</td>\n",
       "      <td>50</td>\n",
       "      <td>122</td>\n",
       "      <td>3</td>\n",
       "      <td>1327</td>\n",
       "      <td>0</td>\n",
       "      <td>15</td>\n",
       "      <td>04</td>\n",
       "    </tr>\n",
       "    <tr>\n",
       "      <th>4400004</th>\n",
       "      <td>0</td>\n",
       "      <td>0</td>\n",
       "      <td>178</td>\n",
       "      <td>1247</td>\n",
       "      <td>1</td>\n",
       "      <td>1197</td>\n",
       "      <td>39</td>\n",
       "      <td>0</td>\n",
       "      <td>11386</td>\n",
       "      <td>73415</td>\n",
       "      <td>...</td>\n",
       "      <td>1</td>\n",
       "      <td>0</td>\n",
       "      <td>320</td>\n",
       "      <td>50</td>\n",
       "      <td>2502</td>\n",
       "      <td>0</td>\n",
       "      <td>35</td>\n",
       "      <td>100085</td>\n",
       "      <td>221</td>\n",
       "      <td>15</td>\n",
       "    </tr>\n",
       "  </tbody>\n",
       "</table>\n",
       "<p>5 rows × 21 columns</p>\n",
       "</div>"
      ],
      "text/plain": [
       "         click  banner_pos  site_id  site_domain  site_category  app_id  \\\n",
       "4400000      0           0      771         1028              5     293   \n",
       "4400001      0           0      178         1247              1    1197   \n",
       "4400002      0           0      771         1028              5     748   \n",
       "4400003      0           0      771         1028              5    1249   \n",
       "4400004      0           0      178         1247              1    1197   \n",
       "\n",
       "         app_domain  app_category  device_id  device_ip     ...       \\\n",
       "4400000          13            18       9783      66825     ...        \n",
       "4400001          39             0      11386      32448     ...        \n",
       "4400002          60             2      11386      60919     ...        \n",
       "4400003           4             2      11386      52932     ...        \n",
       "4400004          39             0      11386      73415     ...        \n",
       "\n",
       "         device_type  device_conn_type  C15  C16   C17  C18   C19     C20  \\\n",
       "4400000            1                 2  320   50  2515    1   161  100190   \n",
       "4400001            1                 0  320   50   761    3   175       0   \n",
       "4400002            1                 3  320   50  2424    1   161  100194   \n",
       "4400003            1                 2  320   50   122    3  1327       0   \n",
       "4400004            1                 0  320   50  2502    0    35  100085   \n",
       "\n",
       "         C21  hours_clean  \n",
       "4400000   71           14  \n",
       "4400001   23           00  \n",
       "4400002   71           02  \n",
       "4400003   15           04  \n",
       "4400004  221           15  \n",
       "\n",
       "[5 rows x 21 columns]"
      ]
     },
     "execution_count": 10,
     "metadata": {},
     "output_type": "execute_result"
    }
   ],
   "source": [
    "test = df['train45']\n",
    "test.head()"
   ]
  },
  {
   "cell_type": "code",
   "execution_count": 11,
   "metadata": {},
   "outputs": [
    {
     "data": {
      "text/plain": [
       "pandas.core.frame.DataFrame"
      ]
     },
     "execution_count": 11,
     "metadata": {},
     "output_type": "execute_result"
    }
   ],
   "source": [
    "type(df['train1'])"
   ]
  },
  {
   "cell_type": "code",
   "execution_count": 52,
   "metadata": {
    "scrolled": true
   },
   "outputs": [
    {
     "name": "stdout",
     "output_type": "stream",
     "text": [
      "0\n",
      "1\n",
      "2\n",
      "3\n",
      "4\n",
      "5\n",
      "6\n",
      "7\n",
      "8\n",
      "9\n"
     ]
    }
   ],
   "source": [
    "# %%timeit\n",
    "# our actual calculation\n",
    "for j in range(0, 10):\n",
    "    for i in range(1, 44):\n",
    "        g = np.random.randint(low = 1, high = 44)\n",
    "        d = df[\"train{0}\".format(g)]\n",
    "\n",
    "        # then we fit the Naive Bayes\n",
    "        fit_train = nb_train.partial_fit(X=d.iloc[:, 1:], y = d.iloc[:, 0], classes=[0, 1])\n",
    "        pred_full = fit_train.predict_proba(test.iloc[:, 1:])\n",
    "\n",
    "        results.iloc[j * 43 + (i - 1), :] = [np.mean(test.iloc[:, 0]), np.mean(pred_full[:, 1]), \\\n",
    "                                             (np.mean(test.iloc[:, 0]) \\\n",
    "                                                     - np.mean(pred_full[:, 1])) ** 2]\n",
    "    \n",
    "    print(j)"
   ]
  },
  {
   "cell_type": "code",
   "execution_count": 75,
   "metadata": {},
   "outputs": [
    {
     "name": "stdout",
     "output_type": "stream",
     "text": [
      "   current test CTR  predicted CTR       SSR\n",
      "0           0.16784       0.173944  0.000037\n",
      "1           0.16784       0.173655  0.000034\n",
      "2           0.16784       0.173860  0.000036\n",
      "3           0.16784       0.173888  0.000037\n",
      "4           0.16784       0.173673  0.000034\n"
     ]
    },
    {
     "data": {
      "image/png": "[encoded data removed]",
      "text/plain": [
       "<matplotlib.figure.Figure at 0x194074b20b8>"
      ]
     },
     "metadata": {},
     "output_type": "display_data"
    }
   ],
   "source": [
    "print(results.head())\n",
    "results.iloc[:44, 1].plot(c='blue')\n",
    "results.iloc[44:88, 1].plot(c='green')\n",
    "results.iloc[88:132, 1].plot(c='lightgreen')\n",
    "results.iloc[132:176, 1].plot(c='lightblue')\n",
    "results.iloc[176:, 1].plot(c='red')\n",
    "plt.title('CTR predicted via Naive Bayes model')\n",
    "plt.xlabel('iteration')\n",
    "plt.ylabel('CTR')\n",
    "# plt.savefig('nbCTR.png', dpi = 1000)\n",
    "plt.show()"
   ]
  },
  {
   "cell_type": "code",
   "execution_count": 82,
   "metadata": {},
   "outputs": [
    {
     "name": "stdout",
     "output_type": "stream",
     "text": [
      "   current test CTR  predicted CTR       SSR\n",
      "0           0.16784       0.173944  0.000037\n",
      "1           0.16784       0.173655  0.000034\n",
      "2           0.16784       0.173860  0.000036\n",
      "3           0.16784       0.173888  0.000037\n",
      "4           0.16784       0.173673  0.000034\n"
     ]
    },
    {
     "data": {
      "image/png": "[encoded data removed]",
      "text/plain": [
       "<matplotlib.figure.Figure at 0x19407054b70>"
      ]
     },
     "metadata": {},
     "output_type": "display_data"
    }
   ],
   "source": [
    "print(results.head())\n",
    "results.iloc[:, 2].plot(c='skyblue', ylim=(0.00003, 0.000045))\n",
    "plt.title('SSR of Naive Bayes model')\n",
    "plt.xlabel('iteration')\n",
    "plt.ylabel('SSR')\n",
    "plt.savefig('nbSSR.png', dpi = 1000)\n",
    "plt.show()"
   ]
  },
  {
   "cell_type": "code",
   "execution_count": 59,
   "metadata": {},
   "outputs": [],
   "source": [
    "logit_pred = pd.read_csv('logit_pred.csv')"
   ]
  },
  {
   "cell_type": "code",
   "execution_count": 68,
   "metadata": {},
   "outputs": [
    {
     "data": {
      "text/plain": [
       "pandas.core.frame.DataFrame"
      ]
     },
     "execution_count": 68,
     "metadata": {},
     "output_type": "execute_result"
    }
   ],
   "source": [
    "type(logit_pred)"
   ]
  },
  {
   "cell_type": "code",
   "execution_count": 90,
   "metadata": {},
   "outputs": [
    {
     "data": {
      "image/png": "[encoded data removed]",
      "text/plain": [
       "<matplotlib.figure.Figure at 0x194083f9fd0>"
      ]
     },
     "metadata": {},
     "output_type": "display_data"
    }
   ],
   "source": [
    "plt.plot(logit_pred, c='red', label='Logit')\n",
    "results.iloc[:268, 2].plot(label='Naive Bayes')\n",
    "plt.title('SSR of Naive Bayes and logit model')\n",
    "plt.xlabel('iteration')\n",
    "plt.ylabel('SSR')\n",
    "plt.legend()\n",
    "plt.savefig('nb_logit_SSR.png', dpi = 1000)\n",
    "plt.show()"
   ]
  },
  {
   "cell_type": "code",
   "execution_count": 91,
   "metadata": {},
   "outputs": [
    {
     "data": {
      "image/png": "[encoded data removed]",
      "text/plain": [
       "<matplotlib.figure.Figure at 0x19408302080>"
      ]
     },
     "metadata": {},
     "output_type": "display_data"
    }
   ],
   "source": [
    "plt.plot(logit_pred[100:], c='red', label='Logit')\n",
    "results.iloc[100:268, 2].plot(label='Naive Bayes')\n",
    "plt.title('SSR of Naive Bayes and logit model - closeup')\n",
    "plt.xlabel('iteration')\n",
    "plt.ylabel('SSR')\n",
    "plt.legend()\n",
    "plt.savefig('nb_logit_SSR2.png', dpi = 1000)\n",
    "plt.show()"
   ]
  }
 ],
 "metadata": {
  "kernelspec": {
   "display_name": "Python 3",
   "language": "python",
   "name": "python3"
  },
  "language_info": {
   "codemirror_mode": {
    "name": "ipython",
    "version": 3
   },
   "file_extension": ".py",
   "mimetype": "text/x-python",
   "name": "python",
   "nbconvert_exporter": "python",
   "pygments_lexer": "ipython3",
   "version": "3.6.4"
  }
 },
 "nbformat": 4,
 "nbformat_minor": 2
}
