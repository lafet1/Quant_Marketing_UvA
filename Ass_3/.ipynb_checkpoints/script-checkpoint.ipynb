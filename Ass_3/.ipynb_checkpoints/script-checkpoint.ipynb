{
 "cells": [
  {
   "cell_type": "markdown",
   "metadata": {},
   "source": [
    "## preparation"
   ]
  },
  {
   "cell_type": "code",
   "execution_count": 1,
   "metadata": {},
   "outputs": [],
   "source": [
    "import pandas as pd\n",
    "import numpy as np\n",
    "import scipy.optimize\n",
    "import random\n",
    "import os"
   ]
  },
  {
   "cell_type": "code",
   "execution_count": 2,
   "metadata": {},
   "outputs": [],
   "source": [
    "fares = pd.read_csv('Fares.csv', sep = ';')\n",
    "flights = pd.read_csv('Flights.csv', sep = ';')"
   ]
  },
  {
   "cell_type": "code",
   "execution_count": 3,
   "metadata": {},
   "outputs": [],
   "source": [
    "history = pd.read_csv('~\\Documents\\GitHub\\Quant_Marketing_UvA\\Ass_3\\History\\Bookings_001.csv', sep = ';')"
   ]
  },
  {
   "cell_type": "code",
   "execution_count": 4,
   "metadata": {},
   "outputs": [],
   "source": [
    "history = pd.read_csv('~\\Documents\\GitHub\\Quant_Marketing_UvA\\Ass_3\\History\\Bookings_001.csv', sep = ';')\n",
    "history['id'] = '001'\n",
    "for i in range(2,101,1):\n",
    "    if len(str(i)) == 1:\n",
    "        i = '00' + str(i)\n",
    "    elif len(str(i)) == 2:\n",
    "        i = '0' + str(i)\n",
    "    else:\n",
    "        i = str(i)\n",
    "        \n",
    "        \n",
    "    hist = pd.read_csv('~\\Documents\\GitHub\\Quant_Marketing_UvA\\Ass_3\\History\\Bookings_' + i + '.csv', \n",
    "                       sep = ';')\n",
    "    hist['id'] = i\n",
    "    history = history.append(hist)\n",
    "    \n",
    "    \n",
    "   "
   ]
  },
  {
   "cell_type": "code",
   "execution_count": 5,
   "metadata": {},
   "outputs": [],
   "source": [
    "def get_demands(fare_id, history):\n",
    "    filt_history = history.loc[history.FARE_ID == fare_id,]\n",
    "    demands = filt_history['id'].value_counts()\n",
    "    return demands\n",
    "\n",
    "def get_capacity(flight_id):\n",
    "    return flights.loc[flights.FLIGHT_ID == flight_id]['CAPACITY']\n",
    "    \n",
    "def get_price(fare_id):\n",
    "    return fares.loc[fares.FARE_ID == fare_id]['PRICE']\n",
    "\n",
    "def get_flights(fare_id):\n",
    "    dep_air  = int(fares.loc[fares.FARE_ID == fare_id]['DEPARTURE_AIRPORT'])\n",
    "    dest_air = int(fares.loc[fares.FARE_ID == fare_id]['DESTINATION_AIRPORT'])\n",
    "   \n",
    "    if dep_air == 1 or dest_air == 1:\n",
    "        return [flights.loc[(flights.DEPARTURE_AIRPORT == dep_air) &\n",
    "                           (flights.DESTINATION_AIRPORT == dest_air)]['FLIGHT_ID']]\n",
    "    else:\n",
    "        return [flights.loc[(flights.DEPARTURE_AIRPORT == dep_air)]['FLIGHT_ID'], \n",
    "                flights.loc[(flights.DESTINATION_AIRPORT == dest_air)]['FLIGHT_ID']]\n",
    "\n",
    "\n",
    "\n",
    "\n",
    "    "
   ]
  },
  {
   "cell_type": "code",
   "execution_count": 6,
   "metadata": {},
   "outputs": [],
   "source": [
    "flight_fare_df = pd.DataFrame(index=range(flights.shape[0]),columns=range(fares.shape[0]), data = 0)\n",
    "for i in range(fares.shape[0]):\n",
    "    used_flights = get_flights(i+1)\n",
    "    try: \n",
    "        flight_fare_df.iloc[int(used_flights[0]) - 1, i] = 1\n",
    "        flight_fare_df.iloc[int(used_flights[1]) - 1, i] = 1\n",
    "    except:\n",
    "        flight_fare_df.iloc[int(used_flights[0]) - 1, i] = 1\n",
    "        "
   ]
  },
  {
   "cell_type": "markdown",
   "metadata": {},
   "source": [
    "## optimization"
   ]
  },
  {
   "cell_type": "code",
   "execution_count": 7,
   "metadata": {},
   "outputs": [
    {
     "name": "stdout",
     "output_type": "stream",
     "text": [
      "Index(['FARE_ID', 'DEPARTURE_AIRPORT', 'DESTINATION_AIRPORT', 'CLASS',\n",
      "       'PRICE'],\n",
      "      dtype='object') (144, 5)\n",
      "Index(['FLIGHT_ID', 'DEPARTURE_AIRPORT', 'DESTINATION_AIRPORT', 'CAPACITY'], dtype='object') (16, 4)\n",
      "Index(['TIME', 'FARE_ID', 'id'], dtype='object') (24120, 3)\n"
     ]
    }
   ],
   "source": [
    "print(fares.columns, fares.shape)\n",
    "print(flights.columns, flights.shape)\n",
    "print(history.columns, history.shape)"
   ]
  },
  {
   "cell_type": "code",
   "execution_count": 8,
   "metadata": {},
   "outputs": [],
   "source": [
    "def kvadr_x(x):\n",
    "    return (x ** 2 - 3 * x + 8) "
   ]
  },
  {
   "cell_type": "code",
   "execution_count": 9,
   "metadata": {},
   "outputs": [],
   "source": [
    "cons = ( {'type': 'ineq',\n",
    "            'fun' : lambda x: np.array([-x, 0])})"
   ]
  },
  {
   "cell_type": "code",
   "execution_count": 10,
   "metadata": {},
   "outputs": [
    {
     "data": {
      "text/plain": [
       "     fun: 7.999999999999997\n",
       "     jac: array([-3.])\n",
       " message: 'Optimization terminated successfully.'\n",
       "    nfev: 10\n",
       "     nit: 3\n",
       "    njev: 3\n",
       "  status: 0\n",
       " success: True\n",
       "       x: array([8.8817842e-16])"
      ]
     },
     "execution_count": 10,
     "metadata": {},
     "output_type": "execute_result"
    }
   ],
   "source": [
    "x0 = np.array([100])\n",
    "scipy.optimize.minimize(kvadr_x, x0,  method='SLSQP', constraints = cons)"
   ]
  },
  {
   "cell_type": "code",
   "execution_count": 11,
   "metadata": {},
   "outputs": [
    {
     "name": "stderr",
     "output_type": "stream",
     "text": [
      "C:\\Users\\StepanAsus\\Anaconda3\\lib\\site-packages\\numpy\\core\\fromnumeric.py:52: FutureWarning: reshape is deprecated and will raise in a subsequent release. Please use .values.reshape(...) instead\n",
      "  return getattr(obj, method)(*args, **kwds)\n"
     ]
    }
   ],
   "source": [
    "capacity = flights['CAPACITY']\n",
    "capacity = np.reshape(capacity, (16, 1))"
   ]
  },
  {
   "cell_type": "raw",
   "metadata": {},
   "source": [
    "#problem je v constraints nekde\n",
    "def profit(x):\n",
    "    return -(np.array(fares['PRICE']) @ x)\n",
    "\n",
    "capacity = flights['CAPACITY']\n",
    "capacity = np.reshape(capacity, (16, 1))\n",
    "x0 = np.zeros((fares.shape[0], ))\n",
    "\n",
    "print(capacity.shape)\n",
    "print(np.reshape(np.array(flight_fare_df) @ x0,(16)).shape)\n",
    "print(x0.shape)\n",
    "\n",
    "cons = ({'type' : 'ineq',\n",
    "         'fun' : lambda x: np.array([capacity, np.reshape(np.array(flight_fare_df) @ x,(16, 1))])})\n",
    "         \n",
    "scipy.optimize.minimize(profit, x0,  method='SLSQP', constraints = cons)\n",
    "         \n",
    "\n"
   ]
  },
  {
   "cell_type": "code",
   "execution_count": 12,
   "metadata": {},
   "outputs": [],
   "source": [
    "exp_demand = np.array(history['FARE_ID'].value_counts().sort_index()) / 100"
   ]
  },
  {
   "cell_type": "code",
   "execution_count": 13,
   "metadata": {},
   "outputs": [
    {
     "data": {
      "text/plain": [
       "array([3.38, 1.45, 1.76, 0.82, 4.16, 1.32, 0.03, 0.01, 3.64, 1.78, 2.51,\n",
       "       0.78, 2.89, 1.23, 3.23, 1.32, 0.04, 0.03, 0.91, 0.35, 5.14, 2.32,\n",
       "       2.1 , 1.01, 2.05, 0.91, 4.83, 2.06, 3.2 , 1.18, 0.78, 0.17, 5.14,\n",
       "       2.31, 1.93, 0.73, 1.97, 0.78, 3.2 , 0.83, 3.87, 0.95, 2.5 , 0.99,\n",
       "       2.44, 0.85, 3.6 , 1.15, 1.2 , 0.48, 3.01, 1.02, 3.26, 0.94, 3.81,\n",
       "       1.54, 1.29, 0.56, 1.31, 0.37, 4.25, 1.31, 0.89, 0.35, 0.05, 0.01,\n",
       "       1.03, 0.34, 3.89, 1.16, 2.68, 0.86, 0.83, 0.31, 4.2 , 1.7 , 3.65,\n",
       "       1.28, 0.5 , 0.21, 0.13, 0.06, 0.48, 0.1 , 3.66, 1.55, 3.15, 1.18,\n",
       "       1.91, 0.69, 1.73, 0.5 , 4.13, 1.39, 2.11, 0.8 , 3.8 , 1.2 , 0.26,\n",
       "       0.08, 4.86, 1.56, 0.35, 0.11, 2.38, 0.74, 0.32, 0.06, 3.17, 1.3 ,\n",
       "       4.88, 1.74, 1.32, 0.49, 1.9 , 0.52, 1.62, 0.71, 2.5 , 1.02, 2.39,\n",
       "       0.99, 3.34, 1.38, 4.27, 1.27, 3.03, 1.08, 0.56, 0.14, 1.79, 0.53,\n",
       "       3.92, 0.93, 1.17, 0.35, 0.92, 0.32, 2.08, 0.57, 3.69, 1.55, 3.9 ,\n",
       "       1.65])"
      ]
     },
     "execution_count": 13,
     "metadata": {},
     "output_type": "execute_result"
    }
   ],
   "source": [
    "exp_demand"
   ]
  },
  {
   "cell_type": "code",
   "execution_count": 14,
   "metadata": {},
   "outputs": [],
   "source": [
    "bounds = np.array([exp_demand[i] for i in range(len(exp_demand))]).reshape((144, 1))"
   ]
  },
  {
   "cell_type": "code",
   "execution_count": 15,
   "metadata": {},
   "outputs": [
    {
     "data": {
      "text/plain": [
       "(144, 1)"
      ]
     },
     "execution_count": 15,
     "metadata": {},
     "output_type": "execute_result"
    }
   ],
   "source": [
    "bounds.shape"
   ]
  },
  {
   "cell_type": "code",
   "execution_count": 16,
   "metadata": {},
   "outputs": [],
   "source": [
    "A_ub=pd.DataFrame(np.vstack([np.array(flight_fare_df), np.identity(144)]))\n",
    "b_ub=np.vstack([capacity, bounds])"
   ]
  },
  {
   "cell_type": "code",
   "execution_count": 52,
   "metadata": {},
   "outputs": [],
   "source": [
    "allocations = scipy.optimize.linprog(c= - np.array(fares['PRICE']), A_ub=A_ub, \n",
    "                                     b_ub=b_ub)"
   ]
  },
  {
   "cell_type": "code",
   "execution_count": 53,
   "metadata": {},
   "outputs": [
    {
     "data": {
      "text/plain": [
       "     fun: -34721.03999999999\n",
       " message: 'Optimization terminated successfully.'\n",
       "     nit: 137\n",
       "   slack: array([0.  , 0.  , 0.  , 0.  , 0.  , 0.  , 0.  , 0.  , 0.  , 0.  , 0.  ,\n",
       "       0.  , 0.  , 0.  , 0.  , 0.  , 0.  , 0.  , 1.33, 0.  , 0.  , 0.  ,\n",
       "       0.03, 0.  , 2.3 , 0.  , 2.51, 0.  , 1.61, 0.  , 0.  , 0.  , 0.  ,\n",
       "       0.  , 0.  , 0.  , 5.14, 0.  , 2.1 , 0.  , 2.05, 0.  , 1.79, 0.  ,\n",
       "       0.  , 0.  , 0.  , 0.  , 1.6 , 0.  , 1.77, 0.  , 0.  , 0.  , 0.33,\n",
       "       0.  , 0.  , 0.  , 2.5 , 0.  , 2.44, 0.  , 3.6 , 0.  , 0.  , 0.  ,\n",
       "       3.01, 0.  , 0.17, 0.  , 3.81, 0.  , 1.29, 0.  , 1.31, 0.  , 0.  ,\n",
       "       0.  , 0.  , 0.  , 0.  , 0.  , 1.03, 0.  , 0.  , 0.  , 2.68, 0.  ,\n",
       "       0.83, 0.31, 0.88, 0.  , 2.47, 0.  , 0.5 , 0.  , 0.  , 0.  , 0.48,\n",
       "       0.  , 0.  , 0.  , 3.15, 0.  , 1.91, 0.69, 0.  , 0.  , 1.23, 0.  ,\n",
       "       2.11, 0.  , 0.83, 0.  , 0.26, 0.  , 4.86, 0.  , 0.09, 0.  , 0.  ,\n",
       "       0.  , 0.  , 0.  , 3.17, 0.  , 0.6 , 0.  , 0.  , 0.  , 0.  , 0.  ,\n",
       "       1.62, 0.  , 0.  , 0.  , 0.  , 0.  , 0.91, 0.  , 4.27, 0.  , 3.03,\n",
       "       0.  , 0.  , 0.  , 0.  , 0.  , 3.92, 0.  , 0.  , 0.  , 0.  , 0.  ,\n",
       "       1.25, 0.  , 0.  , 0.  , 3.9 , 0.  ])\n",
       "  status: 0\n",
       " success: True\n",
       "       x: array([3.38, 1.45, 0.43, 0.82, 4.16, 1.32, 0.  , 0.01, 1.34, 1.78, 0.  ,\n",
       "       0.78, 1.28, 1.23, 3.23, 1.32, 0.04, 0.03, 0.91, 0.35, 0.  , 2.32,\n",
       "       0.  , 1.01, 0.  , 0.91, 3.04, 2.06, 3.2 , 1.18, 0.78, 0.17, 3.54,\n",
       "       2.31, 0.16, 0.73, 1.97, 0.78, 2.87, 0.83, 3.87, 0.95, 0.  , 0.99,\n",
       "       0.  , 0.85, 0.  , 1.15, 1.2 , 0.48, 0.  , 1.02, 3.09, 0.94, 0.  ,\n",
       "       1.54, 0.  , 0.56, 0.  , 0.37, 4.25, 1.31, 0.89, 0.35, 0.05, 0.01,\n",
       "       0.  , 0.34, 3.89, 1.16, 0.  , 0.86, 0.  , 0.  , 3.32, 1.7 , 1.18,\n",
       "       1.28, 0.  , 0.21, 0.13, 0.06, 0.  , 0.1 , 3.66, 1.55, 0.  , 1.18,\n",
       "       0.  , 0.  , 1.73, 0.5 , 2.9 , 1.39, 0.  , 0.8 , 2.97, 1.2 , 0.  ,\n",
       "       0.08, 0.  , 1.56, 0.26, 0.11, 2.38, 0.74, 0.32, 0.06, 0.  , 1.3 ,\n",
       "       4.28, 1.74, 1.32, 0.49, 1.9 , 0.52, 0.  , 0.71, 2.5 , 1.02, 2.39,\n",
       "       0.99, 2.43, 1.38, 0.  , 1.27, 0.  , 1.08, 0.56, 0.14, 1.79, 0.53,\n",
       "       0.  , 0.93, 1.17, 0.35, 0.92, 0.32, 0.83, 0.57, 3.69, 1.55, 0.  ,\n",
       "       1.65])"
      ]
     },
     "execution_count": 53,
     "metadata": {},
     "output_type": "execute_result"
    }
   ],
   "source": [
    "allocations"
   ]
  },
  {
   "cell_type": "code",
   "execution_count": 20,
   "metadata": {},
   "outputs": [],
   "source": [
    "shadow_prices = scipy.optimize.linprog(c=b_ub.reshape((160,)), A_ub= - A_ub.T,\n",
    "                                       b_ub= - np.array(fares['PRICE']).T)"
   ]
  },
  {
   "cell_type": "code",
   "execution_count": 50,
   "metadata": {},
   "outputs": [
    {
     "data": {
      "text/plain": [
       "array([ 10.,  34.,  48.,  58.,  56.,  19.,  16.,  23.,  19.,  34.,  47.,\n",
       "        62.,  61.,  24.,  21.,  32.,   5., 173.,   0., 238.,  20., 489.,\n",
       "         0., 434.,   0., 427.,   0., 128.,   0., 147.,  15., 344.,  14.,\n",
       "       182.,   9., 380.,   0., 319.,   0., 376.,   0., 377.,   0., 238.,\n",
       "        13., 321.,  29., 526.,   0., 238.,   0., 371.,   1., 575.,   0.,\n",
       "       672.,   0., 665.,   0.,  94.,   0.,  97.,   0., 286.,  19., 488.,\n",
       "         0., 309.,   0., 574.,   0., 634.,   0., 635.,   0., 456.,  14.,\n",
       "       595.,  34., 832.,   4., 438.,   0., 371.,   4., 676.,   0., 639.,\n",
       "         0.,   0.,   0., 574.,   0., 553.,   0., 598.,   5., 432.,   0.,\n",
       "       373.,   5., 670.,   0., 641.,   0.,   0.,   0., 560.,   0., 539.,\n",
       "         0., 584.,   0., 133.,   0., 234.,   0.,  99.,   0., 462.,   1.,\n",
       "       575.,   0., 560.,   0., 104.,   0., 357.,   5., 152.,   9., 317.,\n",
       "         0., 102.,  20., 601.,   1., 554.,   0., 539.,   0., 104.,   0.,\n",
       "       208.,  24., 353.,  29., 526.,   0., 295.,  44., 842.,   1., 603.,\n",
       "         0., 588.,   4., 361.,   0., 212.])"
      ]
     },
     "execution_count": 50,
     "metadata": {},
     "output_type": "execute_result"
    }
   ],
   "source": [
    "shadow_prices.x"
   ]
  },
  {
   "cell_type": "code",
   "execution_count": 71,
   "metadata": {},
   "outputs": [
    {
     "data": {
      "text/plain": [
       "False"
      ]
     },
     "execution_count": 71,
     "metadata": {},
     "output_type": "execute_result"
    }
   ],
   "source": [
    "x = 257\n",
    "x is 257"
   ]
  },
  {
   "cell_type": "markdown",
   "metadata": {},
   "source": [
    "## DLP vanilla"
   ]
  },
  {
   "cell_type": "code",
   "execution_count": 82,
   "metadata": {},
   "outputs": [],
   "source": [
    "def DLP_vanilla(fares, capacity, flight_fare_df, bookings, exp_demand):\n",
    "    profit = 0\n",
    "    bounds = [(0, exp_demand[i]) for i in range(len(exp_demand))]\n",
    "    A_ub = flight_fare_df\n",
    "    b_ub = capacity\n",
    "    \n",
    "    for i in range(1, 7):\n",
    "        allocations = scipy.optimize.linprog(c= - np.array(fares['PRICE']), A_ub=np.array(A_ub), \n",
    "                                     b_ub=b_ub, bounds=bounds).x.astype(int)\n",
    "        \n",
    "        bookings_aux = bookings[(bookings.TIME <= (i * 100)) & (bookings.TIME >= ((i - 1) * 100))]\n",
    "        \n",
    "        for j in bookings_aux.FARE_ID:\n",
    "            sold_fare = np.zeros((144,))\n",
    "            sold_fare[j - 1] = 1\n",
    "            if np.sum(allocations > 0) == 144:    \n",
    "                allocations = allocations - sold_fare\n",
    "                profit += fares.iloc[j - 1, -1]\n",
    "            elif np.sum(allocations - sold_fare >= 0) == 144:\n",
    "                sold_fare = np.zeros((144,))\n",
    "                sold_fare[j - 1] = 1\n",
    "                allocations = allocations - sold_fare\n",
    "                profit += fares.iloc[j - 1, -1]\n",
    "#         print(profit)\n",
    "            \n",
    "    return profit  "
   ]
  },
  {
   "cell_type": "code",
   "execution_count": 79,
   "metadata": {},
   "outputs": [
    {
     "name": "stdout",
     "output_type": "stream",
     "text": [
      "1573\n",
      "3039\n",
      "4312\n",
      "6023\n",
      "11258\n",
      "19015\n"
     ]
    },
    {
     "data": {
      "text/plain": [
       "19015"
      ]
     },
     "execution_count": 79,
     "metadata": {},
     "output_type": "execute_result"
    }
   ],
   "source": [
    "DLP_vanilla(fares, capacity, flight_fare_df, fut, exp_demand)"
   ]
  },
  {
   "cell_type": "code",
   "execution_count": 83,
   "metadata": {},
   "outputs": [],
   "source": [
    "def average_profit_vanilla(directory):\n",
    "\n",
    "    profit = 0\n",
    "    path = 'C:/Users/StepanAsus/Documents/GitHub/Quant_Marketing_UvA/Ass_3/' + directory\n",
    "    os.chdir(path)\n",
    "    files = os.listdir(path)\n",
    "    for file_ in files:\n",
    "        d = pd.read_csv(file_, sep = ';')\n",
    "        profit += DLP_vanilla(fares, capacity, flight_fare_df, d, exp_demand)\n",
    "    return profit / 100"
   ]
  },
  {
   "cell_type": "code",
   "execution_count": 84,
   "metadata": {},
   "outputs": [
    {
     "data": {
      "text/plain": [
       "19472.84"
      ]
     },
     "execution_count": 84,
     "metadata": {},
     "output_type": "execute_result"
    }
   ],
   "source": [
    "average_profit_vanilla('Future')"
   ]
  },
  {
   "cell_type": "markdown",
   "metadata": {},
   "source": [
    "## bid prices"
   ]
  },
  {
   "cell_type": "code",
   "execution_count": 22,
   "metadata": {},
   "outputs": [
    {
     "data": {
      "text/plain": [
       "(160,)"
      ]
     },
     "execution_count": 22,
     "metadata": {},
     "output_type": "execute_result"
    }
   ],
   "source": [
    "shadow_prices.x.shape"
   ]
  },
  {
   "cell_type": "code",
   "execution_count": 23,
   "metadata": {},
   "outputs": [],
   "source": [
    "thresholds = np.sum(np.multiply(flight_fare_df.T, \n",
    "                               shadow_prices.x[:16, np.newaxis].T), axis=1)"
   ]
  },
  {
   "cell_type": "code",
   "execution_count": 24,
   "metadata": {},
   "outputs": [
    {
     "data": {
      "text/plain": [
       "(16, 144)"
      ]
     },
     "execution_count": 24,
     "metadata": {},
     "output_type": "execute_result"
    }
   ],
   "source": [
    "flight_fare_df.shape"
   ]
  },
  {
   "cell_type": "code",
   "execution_count": 25,
   "metadata": {},
   "outputs": [
    {
     "data": {
      "text/plain": [
       "0       True\n",
       "1       True\n",
       "2       True\n",
       "3       True\n",
       "4       True\n",
       "5       True\n",
       "6       True\n",
       "7       True\n",
       "8       True\n",
       "9       True\n",
       "10     False\n",
       "11      True\n",
       "12      True\n",
       "13      True\n",
       "14      True\n",
       "15      True\n",
       "16      True\n",
       "17      True\n",
       "18      True\n",
       "19      True\n",
       "20     False\n",
       "21      True\n",
       "22     False\n",
       "23      True\n",
       "24     False\n",
       "25      True\n",
       "26      True\n",
       "27      True\n",
       "28      True\n",
       "29      True\n",
       "       ...  \n",
       "114     True\n",
       "115     True\n",
       "116    False\n",
       "117     True\n",
       "118     True\n",
       "119     True\n",
       "120     True\n",
       "121     True\n",
       "122     True\n",
       "123     True\n",
       "124    False\n",
       "125     True\n",
       "126    False\n",
       "127     True\n",
       "128     True\n",
       "129     True\n",
       "130     True\n",
       "131     True\n",
       "132    False\n",
       "133     True\n",
       "134     True\n",
       "135     True\n",
       "136     True\n",
       "137     True\n",
       "138     True\n",
       "139     True\n",
       "140     True\n",
       "141     True\n",
       "142    False\n",
       "143     True\n",
       "Length: 144, dtype: bool"
      ]
     },
     "execution_count": 25,
     "metadata": {},
     "output_type": "execute_result"
    }
   ],
   "source": [
    "np.array(fares['PRICE']) >= thresholds"
   ]
  },
  {
   "cell_type": "code",
   "execution_count": 26,
   "metadata": {},
   "outputs": [],
   "source": [
    "hist1 = pd.read_csv('~\\Documents\\GitHub\\Quant_Marketing_UvA\\Ass_3\\History\\Bookings_001.csv', sep = ';')"
   ]
  },
  {
   "cell_type": "code",
   "execution_count": 27,
   "metadata": {},
   "outputs": [
    {
     "data": {
      "text/plain": [
       "(16,)"
      ]
     },
     "execution_count": 27,
     "metadata": {},
     "output_type": "execute_result"
    }
   ],
   "source": [
    "np.array(flight_fare_df.iloc[:, 10]).shape"
   ]
  },
  {
   "cell_type": "code",
   "execution_count": 28,
   "metadata": {},
   "outputs": [
    {
     "data": {
      "text/plain": [
       "array([[16],\n",
       "       [21],\n",
       "       [16],\n",
       "       [14],\n",
       "       [14],\n",
       "       [17],\n",
       "       [18],\n",
       "       [15],\n",
       "       [12],\n",
       "       [20],\n",
       "       [18],\n",
       "       [14],\n",
       "       [15],\n",
       "       [20],\n",
       "       [23],\n",
       "       [16]], dtype=int64)"
      ]
     },
     "execution_count": 28,
     "metadata": {},
     "output_type": "execute_result"
    }
   ],
   "source": [
    "(capacity - np.array(flight_fare_df.iloc[:, 10]).reshape((16, 1)))"
   ]
  },
  {
   "cell_type": "code",
   "execution_count": 29,
   "metadata": {},
   "outputs": [],
   "source": [
    "fares_available = np.array(fares['PRICE']) >= thresholds"
   ]
  },
  {
   "cell_type": "code",
   "execution_count": 30,
   "metadata": {},
   "outputs": [],
   "source": [
    "fares_ID = [np.where(fares_available)[i] + 1 for i in range(len(np.where(fares_available)))]"
   ]
  },
  {
   "cell_type": "code",
   "execution_count": 31,
   "metadata": {},
   "outputs": [
    {
     "data": {
      "text/plain": [
       "[array([  1,   2,   3,   4,   5,   6,   7,   8,   9,  10,  12,  13,  14,\n",
       "         15,  16,  17,  18,  19,  20,  22,  24,  26,  27,  28,  29,  30,\n",
       "         31,  32,  33,  34,  35,  36,  37,  38,  39,  40,  41,  42,  44,\n",
       "         46,  48,  49,  50,  52,  53,  54,  56,  58,  60,  61,  62,  63,\n",
       "         64,  65,  66,  68,  69,  70,  72,  75,  76,  77,  78,  80,  81,\n",
       "         82,  84,  85,  86,  88,  91,  92,  93,  94,  96,  97,  98, 100,\n",
       "        102, 103, 104, 105, 106, 107, 108, 110, 111, 112, 113, 114, 115,\n",
       "        116, 118, 119, 120, 121, 122, 123, 124, 126, 128, 129, 130, 131,\n",
       "        132, 134, 135, 136, 137, 138, 139, 140, 141, 142, 144], dtype=int64)]"
      ]
     },
     "execution_count": 31,
     "metadata": {},
     "output_type": "execute_result"
    }
   ],
   "source": [
    "fares_ID"
   ]
  },
  {
   "cell_type": "code",
   "execution_count": 32,
   "metadata": {},
   "outputs": [],
   "source": [
    "fut = pd.read_csv('~\\Documents\\GitHub\\Quant_Marketing_UvA\\Ass_3\\Future\\Bookings_009.csv', sep = ';')"
   ]
  },
  {
   "cell_type": "code",
   "execution_count": 33,
   "metadata": {},
   "outputs": [],
   "source": [
    "accepted_fares = [fut.FARE_ID.values[i] for i in range(len(fut.FARE_ID.values)) \n",
    "                  if fut.FARE_ID.values[i] in fares_ID[0]]"
   ]
  },
  {
   "cell_type": "code",
   "execution_count": 34,
   "metadata": {},
   "outputs": [
    {
     "data": {
      "text/plain": [
       "array([  1,   2,   3,   4,   5,   6,   9,  10,  12,  13,  15,  16,  19,\n",
       "        24,  26,  27,  28,  29,  30,  31,  33,  34,  36,  37,  39,  41,\n",
       "        42,  46,  48,  49,  52,  53,  56,  58,  60,  61,  63,  68,  69,\n",
       "        70,  75,  76,  77,  85,  88,  91,  93,  94,  96,  97,  98, 103,\n",
       "       105, 111, 112, 113, 114, 115, 118, 119, 120, 123, 126, 128, 129,\n",
       "       131, 132, 134, 137, 140, 141, 142], dtype=int64)"
      ]
     },
     "execution_count": 34,
     "metadata": {},
     "output_type": "execute_result"
    }
   ],
   "source": [
    "np.intersect1d(accepted_fares, fut.FARE_ID)"
   ]
  },
  {
   "cell_type": "code",
   "execution_count": 35,
   "metadata": {},
   "outputs": [
    {
     "data": {
      "text/plain": [
       "array([  9, 123,  93, 131,  43, 127, 141,  75,  71,  31,  53,  85, 109,\n",
       "        21,  15, 133, 109,  69,   1,  55,  19,  69,  71,  53, 123, 111,\n",
       "         3, 101,  61,  13,  95, 133, 141,  33, 101,  93,  41, 127,  15,\n",
       "       133,  69, 131,  13,  91,  97,  71,  75, 123, 119,  51,  15, 111,\n",
       "        47, 141,   5, 125,  31,  47,  55,  25,  91,  15,  75,  63,  39,\n",
       "       113, 119,  27,  49,  69,  77,  55, 109,  33, 109,  11,  53,  11,\n",
       "        37,   3,  69,  85,  69, 111,  69, 143,  21,  57,  93, 111, 143,\n",
       "        61, 103,  45,  79,   3,  61, 101,  29, 143,  19,  47,  27, 133,\n",
       "        47,  75,  45,  67,  39, 143,   3,  39,  27,   3,  87, 123,  87,\n",
       "       137,  51,  39, 109,  87,  77,   5,  55,  43,  85,  55,  49, 101,\n",
       "       129,  37, 101,  47,  45,  55, 125,  57,  15,  29,  93, 125, 141,\n",
       "        61,  33,  57, 131,  28,  41,  71, 133,  21, 141, 119,  61,  85,\n",
       "        85,  29,  26, 131,  26, 142,  36,  55, 109,   9,  10,  76,  98,\n",
       "        13,  33,  39,  26,  48,  24, 125, 111,  52,  87,  71, 105, 127,\n",
       "        26, 123,  61,  28,  28,  28,  98,  39,   2,   6, 115,  42,  28,\n",
       "        23, 118, 119, 140, 127,  61,  34,  46,  48, 120, 134,  98,  24,\n",
       "       114,  98,  60,  16,  88,  45,  30,  70, 119,  75,  96, 113,  16,\n",
       "        76,  94, 125,  52, 141, 126,  68,  46,  90, 132,   2, 127, 112,\n",
       "        34,  12,  30,  56,  58, 128,   4], dtype=int64)"
      ]
     },
     "execution_count": 35,
     "metadata": {},
     "output_type": "execute_result"
    }
   ],
   "source": [
    "np.array(fut.FARE_ID)"
   ]
  },
  {
   "cell_type": "markdown",
   "metadata": {},
   "source": [
    "## DLP model"
   ]
  },
  {
   "cell_type": "code",
   "execution_count": 220,
   "metadata": {},
   "outputs": [],
   "source": [
    "def bid_prices(fares, capacity, flight_fare_df, bookings, exp_demand):\n",
    "    profit = 0\n",
    "    bounds = np.array([exp_demand[i] for i in range(len(exp_demand))]).reshape((144, 1))\n",
    "    A_ub = pd.DataFrame(np.vstack([np.array(flight_fare_df), np.identity(144)]))\n",
    "    b_ub = np.vstack([capacity, bounds])\n",
    "    \n",
    "    for i in range(1, 7):\n",
    "        shadow_prices = scipy.optimize.linprog(c=b_ub.reshape((160,)), A_ub= - A_ub.T,\n",
    "                                               b_ub= - np.array(fares['PRICE']).T)\n",
    "        thresholds = np.sum(np.multiply(A_ub.iloc[:16, :].T, \n",
    "                               shadow_prices.x[:16, np.newaxis].T), axis=1)\n",
    "\n",
    "        bookings_aux = bookings[(bookings.TIME <= (i * 100)) & (bookings.TIME >= ((i - 1) * 100))]\n",
    "        fares_available = np.array(fares['PRICE']) >= thresholds\n",
    "        fares_ID = [np.where(fares_available)[k] + 1 for k in range(len(np.where(fares_available)))]\n",
    "        accepted_fares = [bookings_aux.FARE_ID.values[k] for k in range(len(bookings_aux.FARE_ID.values))\n",
    "                          if bookings_aux.FARE_ID.values[k] in fares_ID[0]]\n",
    "        \n",
    "        for j in accepted_fares:\n",
    "            if np.sum(b_ub[:16] > 0) == 16:\n",
    "                b_ub[:16] = b_ub[:16] - np.array(A_ub.iloc[:16, j - 1]).reshape((16, 1))\n",
    "                profit += fares.iloc[j - 1, -1]\n",
    "            elif np.sum((b_ub[:16] \n",
    "                            - np.array(A_ub.iloc[:16, j - 1]).reshape((16, 1))) >= 0) == 16:\n",
    "                b_ub[:16] = b_ub[:16] - np.array(A_ub.iloc[:16, j - 1]).reshape((16, 1))\n",
    "                profit += fares.iloc[j - 1, -1]\n",
    "        print(profit, np.sum(b_ub[:16]))\n",
    "            \n",
    "    return profit  "
   ]
  },
  {
   "cell_type": "code",
   "execution_count": 170,
   "metadata": {},
   "outputs": [],
   "source": [
    "def average_profit(directory):\n",
    "\n",
    "    profit = 0\n",
    "    path = 'C:/Users/StepanAsus/Documents/GitHub/Quant_Marketing_UvA/Ass_3/' + directory\n",
    "    os.chdir(path)\n",
    "    files = os.listdir(path)\n",
    "    for file_ in files:\n",
    "        d = pd.read_csv(file_, sep = ';')\n",
    "        profit += bid_prices(fares, capacity, flight_fare_df, d, exp_demand)\n",
    "    return profit / 100"
   ]
  },
  {
   "cell_type": "code",
   "execution_count": 110,
   "metadata": {},
   "outputs": [
    {
     "data": {
      "text/plain": [
       "'Bookings_001.csv'"
      ]
     },
     "execution_count": 110,
     "metadata": {},
     "output_type": "execute_result"
    }
   ],
   "source": [
    "files = os.listdir('C:/Users/StepanAsus/Documents/GitHub/Quant_Marketing_UvA/Ass_3/' + 'Future')\n",
    "files[0]"
   ]
  },
  {
   "cell_type": "code",
   "execution_count": 138,
   "metadata": {},
   "outputs": [
    {
     "data": {
      "text/plain": [
       "28549.54"
      ]
     },
     "execution_count": 138,
     "metadata": {},
     "output_type": "execute_result"
    }
   ],
   "source": [
    "average_profit('Future')"
   ]
  },
  {
   "cell_type": "code",
   "execution_count": 221,
   "metadata": {},
   "outputs": [
    {
     "name": "stdout",
     "output_type": "stream",
     "text": [
      "[10. 34. 48. 58. 56. 19. 16. 23. 19. 34. 47. 62. 61. 24. 21. 32.]\n",
      "2135 220.0\n",
      "[15. 34. 67. 58. 56.  4. 16. 32. 24. 38. 67. 62. 61. 19. 21. 47.]\n",
      "3696 185.0\n",
      "[15. 34. 67. 63. 56.  4. 16. 32. 24. 39. 67. 78. 61. 19. 21. 47.]\n",
      "4812 153.0\n",
      "[  0.  34.  67. 588.  33.   0.  21.  47.  24.  62.  67.  82. 595.  34.\n",
      "  44.  51.]\n",
      "5614 143.0\n",
      "[  0.  34.  67. 588.  33.   0.  21.  47.  24.  62.  67.  82. 595.  47.\n",
      "  44.  51.]\n",
      "11336 108.0\n",
      "[  0.  34. 587. 538.  26.  19. 198.  47. 192.  69.  67. 157. 726. 118.\n",
      "  77.  58.]\n",
      "23816 49.0\n"
     ]
    },
    {
     "data": {
      "text/plain": [
       "23816"
      ]
     },
     "execution_count": 221,
     "metadata": {},
     "output_type": "execute_result"
    }
   ],
   "source": [
    "bid_prices(fares, capacity, flight_fare_df, fut, exp_demand)"
   ]
  },
  {
   "cell_type": "markdown",
   "metadata": {},
   "source": [
    "## RLP model"
   ]
  },
  {
   "cell_type": "code",
   "execution_count": 159,
   "metadata": {},
   "outputs": [],
   "source": [
    "zeros = pd.DataFrame(np.zeros((144, 1)))\n",
    "indexes = fut['FARE_ID'].value_counts().sort_index()\n",
    "output = zeros.join(indexes, how='left')['FARE_ID'].fillna(0)"
   ]
  },
  {
   "cell_type": "code",
   "execution_count": 272,
   "metadata": {},
   "outputs": [
    {
     "data": {
      "text/plain": [
       "'Bookings_057.csv'"
      ]
     },
     "execution_count": 272,
     "metadata": {},
     "output_type": "execute_result"
    }
   ],
   "source": [
    "random.choice(os.listdir('C:/Users/StepanAsus/Documents/GitHub/Quant_Marketing_UvA/Ass_3/History'))"
   ]
  },
  {
   "cell_type": "code",
   "execution_count": 287,
   "metadata": {},
   "outputs": [],
   "source": [
    "def bid_prices_RLP(fares, capacity, flight_fare_df, bookings):\n",
    "    profit = 0\n",
    "    path_hist = 'C:/Users/StepanAsus/Documents/GitHub/Quant_Marketing_UvA/Ass_3/History'\n",
    "    files_hist = os.listdir(path_hist)\n",
    "    exp_demand = pd.DataFrame(np.zeros((144,)))\n",
    "    \n",
    "    for i in range(100):\n",
    "        data = pd.read_csv(random.choice(os.listdir(path_hist)), sep = ';')\n",
    "        zeros = pd.DataFrame(np.zeros((144, 1)))\n",
    "        indexes = data['FARE_ID'].value_counts().sort_index()\n",
    "        exp_demand += zeros.join(indexes, how='left')['FARE_ID'].fillna(0).values.reshape((144, 1))\n",
    "        \n",
    "    exp_demand = exp_demand / 100\n",
    "    A_ub = pd.DataFrame(np.vstack([np.array(flight_fare_df), np.identity(144)]))\n",
    "    b_ub = np.vstack([capacity, exp_demand])\n",
    "\n",
    "    for i in range(1, 7):\n",
    "        shadow_prices = scipy.optimize.linprog(c=b_ub.reshape((160,)), A_ub= - A_ub.T,\n",
    "                                               b_ub= - np.array(fares['PRICE']).T)\n",
    "        thresholds = np.sum(np.multiply(A_ub.iloc[:16, :].T, \n",
    "                               shadow_prices.x[:16, np.newaxis].T), axis=1)\n",
    "\n",
    "        bookings_aux = bookings[(bookings.TIME <= (i * 100)) & (bookings.TIME >= ((i - 1) * 100))]\n",
    "        fares_available = np.array(fares['PRICE']) >= thresholds\n",
    "        fares_ID = [np.where(fares_available)[k] + 1 for k in range(len(np.where(fares_available)))]\n",
    "        accepted_fares = [bookings_aux.FARE_ID.values[k] for k in range(len(bookings_aux.FARE_ID.values))\n",
    "                          if bookings_aux.FARE_ID.values[k] in fares_ID[0]]\n",
    "        \n",
    "        for j in accepted_fares:\n",
    "            if np.sum(b_ub[:16] > 0) == 16:\n",
    "                b_ub[:16] = b_ub[:16] - np.array(A_ub.iloc[:16, j - 1]).reshape((16, 1))\n",
    "                profit += fares.iloc[j - 1, -1]\n",
    "            elif np.sum((b_ub[:16] \n",
    "                            - np.array(A_ub.iloc[:16, j - 1]).reshape((16, 1))) >= 0) == 16:\n",
    "                b_ub[:16] = b_ub[:16] - np.array(A_ub.iloc[:16, j - 1]).reshape((16, 1))\n",
    "                profit += fares.iloc[j - 1, -1]\n",
    "#         print(profit, np.sum(b_ub[:16]))\n",
    "            \n",
    "    return profit"
   ]
  },
  {
   "cell_type": "code",
   "execution_count": 282,
   "metadata": {},
   "outputs": [
    {
     "name": "stdout",
     "output_type": "stream",
     "text": [
      "24 269.0\n",
      "64 267.0\n",
      "64 267.0\n",
      "1232 261.0\n",
      "8556 225.0\n",
      "18844 184.0\n"
     ]
    },
    {
     "data": {
      "text/plain": [
       "18844"
      ]
     },
     "execution_count": 282,
     "metadata": {},
     "output_type": "execute_result"
    }
   ],
   "source": [
    "bid_prices_RLP(fares, capacity, flight_fare_df, fut)"
   ]
  },
  {
   "cell_type": "code",
   "execution_count": 285,
   "metadata": {},
   "outputs": [],
   "source": [
    "def average_profit_RLP(directory):\n",
    "\n",
    "    profit = 0\n",
    "    path = 'C:/Users/StepanAsus/Documents/GitHub/Quant_Marketing_UvA/Ass_3/' + directory\n",
    "    os.chdir(path)\n",
    "    files = os.listdir(path)\n",
    "    for file_ in files:\n",
    "        d = pd.read_csv(file_, sep = ';')\n",
    "        profit += bid_prices_RLP(fares, capacity, flight_fare_df, d)\n",
    "    return profit / 100"
   ]
  },
  {
   "cell_type": "code",
   "execution_count": 286,
   "metadata": {},
   "outputs": [
    {
     "name": "stdout",
     "output_type": "stream",
     "text": [
      "146 263.0\n",
      "256 259.0\n",
      "256 259.0\n",
      "1795 253.0\n",
      "10928 217.0\n",
      "25800 156.0\n",
      "0 270.0\n",
      "24 269.0\n",
      "187 262.0\n",
      "686 257.0\n",
      "7881 227.0\n",
      "25089 157.0\n",
      "44 268.0\n",
      "99 266.0\n",
      "123 265.0\n",
      "1667 260.0\n",
      "12784 211.0\n",
      "28712 153.0\n",
      "74 267.0\n",
      "74 267.0\n",
      "74 267.0\n",
      "1154 262.0\n",
      "9986 225.0\n",
      "21802 183.0\n",
      "0 270.0\n",
      "79 266.0\n",
      "124 264.0\n",
      "1228 257.0\n",
      "10396 220.0\n",
      "23924 169.0\n",
      "0 270.0\n",
      "53 268.0\n",
      "77 267.0\n",
      "4134 249.0\n",
      "12046 216.0\n",
      "27670 158.0\n",
      "83 266.0\n",
      "131 264.0\n",
      "131 264.0\n",
      "1763 257.0\n",
      "10747 222.0\n",
      "25715 171.0\n",
      "165 264.0\n",
      "344 256.0\n",
      "363 255.0\n",
      "2347 246.0\n",
      "14723 200.0\n",
      "30867 148.0\n",
      "24 269.0\n",
      "64 267.0\n",
      "64 267.0\n",
      "1232 261.0\n",
      "8556 225.0\n",
      "19292 182.0\n",
      "114 265.0\n",
      "114 265.0\n",
      "114 265.0\n",
      "4010 250.0\n",
      "12218 219.0\n",
      "27690 158.0\n",
      "44 268.0\n",
      "176 262.0\n",
      "254 258.0\n",
      "1157 250.0\n",
      "10021 219.0\n",
      "26061 160.0\n",
      "0 270.0\n",
      "24 269.0\n",
      "68 267.0\n",
      "1105 262.0\n",
      "14057 217.0\n",
      "29777 162.0\n",
      "24 269.0\n",
      "24 269.0\n",
      "64 267.0\n",
      "872 263.0\n",
      "13500 222.0\n",
      "29892 160.0\n",
      "121 266.0\n",
      "161 264.0\n",
      "195 263.0\n",
      "3137 250.0\n",
      "12945 213.0\n",
      "25633 165.0\n",
      "58 267.0\n",
      "106 265.0\n",
      "197 261.0\n",
      "2514 249.0\n",
      "14746 207.0\n",
      "31314 149.0\n",
      "114 265.0\n",
      "114 265.0\n",
      "182 263.0\n",
      "1062 257.0\n",
      "9830 223.0\n",
      "29182 159.0\n",
      "0 270.0\n",
      "89 266.0\n",
      "110 265.0\n",
      "2126 259.0\n",
      "13964 211.0\n",
      "25380 166.0\n",
      "0 270.0\n",
      "113 265.0\n",
      "113 265.0\n",
      "1590 257.0\n",
      "13585 214.0\n",
      "30633 156.0\n",
      "0 270.0\n",
      "24 269.0\n",
      "68 267.0\n",
      "1092 263.0\n",
      "8844 229.0\n",
      "26500 161.0\n",
      "24 269.0\n",
      "45 268.0\n",
      "66 267.0\n",
      "1194 262.0\n",
      "12231 220.0\n",
      "23231 179.0\n",
      "48 268.0\n",
      "48 268.0\n",
      "90 266.0\n",
      "1266 261.0\n",
      "15165 212.0\n",
      "29533 163.0\n",
      "45 268.0\n",
      "140 264.0\n",
      "261 259.0\n",
      "4616 243.0\n",
      "14086 202.0\n",
      "27478 160.0\n",
      "48 268.0\n",
      "150 265.0\n",
      "150 265.0\n",
      "1734 260.0\n",
      "8815 228.0\n",
      "24479 175.0\n",
      "106 266.0\n",
      "144 264.0\n",
      "144 264.0\n",
      "824 262.0\n",
      "11992 228.0\n",
      "24064 177.0\n",
      "65 267.0\n",
      "65 267.0\n",
      "161 263.0\n",
      "3169 253.0\n",
      "12009 224.0\n",
      "25342 175.0\n",
      "68 266.0\n",
      "68 266.0\n",
      "68 266.0\n",
      "1004 263.0\n",
      "8780 232.0\n",
      "24692 172.0\n",
      "106 266.0\n",
      "213 261.0\n",
      "213 261.0\n",
      "957 259.0\n",
      "10165 226.0\n",
      "28464 162.0\n",
      "24 269.0\n",
      "93 266.0\n",
      "131 264.0\n",
      "1315 256.0\n",
      "8435 225.0\n",
      "21099 181.0\n",
      "165 263.0\n",
      "165 263.0\n",
      "165 263.0\n",
      "1477 258.0\n",
      "9405 227.0\n",
      "23493 178.0\n",
      "77 266.0\n",
      "77 266.0\n",
      "77 266.0\n",
      "1065 260.0\n",
      "13167 208.0\n",
      "29127 148.0\n",
      "24 269.0\n",
      "100 265.0\n",
      "182 261.0\n",
      "1012 254.0\n",
      "13057 207.0\n",
      "22369 168.0\n",
      "92 266.0\n",
      "111 265.0\n",
      "111 265.0\n",
      "1647 258.0\n",
      "12647 215.0\n",
      "32735 141.0\n",
      "98 265.0\n",
      "98 265.0\n",
      "288 261.0\n",
      "1090 256.0\n",
      "12050 213.0\n",
      "27103 161.0\n",
      "112 265.0\n",
      "180 263.0\n",
      "326 255.0\n",
      "1833 247.0\n",
      "7494 222.0\n",
      "23222 164.0\n",
      "272 259.0\n",
      "272 259.0\n",
      "325 257.0\n",
      "2548 245.0\n",
      "11248 213.0\n",
      "24320 163.0\n",
      "21 269.0\n",
      "186 262.0\n",
      "186 262.0\n",
      "1724 255.0\n",
      "9751 224.0\n",
      "21447 178.0\n",
      "140 264.0\n",
      "140 264.0\n",
      "140 264.0\n",
      "921 261.0\n",
      "10681 221.0\n",
      "25361 169.0\n",
      "0 270.0\n",
      "177 262.0\n",
      "215 260.0\n",
      "3204 248.0\n",
      "12732 211.0\n",
      "30388 139.0\n",
      "74 267.0\n",
      "74 267.0\n",
      "98 266.0\n",
      "2658 256.0\n",
      "14797 210.0\n",
      "30693 158.0\n",
      "0 270.0\n",
      "0 270.0\n",
      "0 270.0\n",
      "152 268.0\n",
      "11328 218.0\n",
      "33280 145.0\n",
      "24 269.0\n",
      "24 269.0\n",
      "24 269.0\n",
      "856 266.0\n",
      "10808 221.0\n",
      "24600 173.0\n",
      "90 266.0\n",
      "201 262.0\n",
      "201 262.0\n",
      "1849 254.0\n",
      "8265 227.0\n",
      "24249 165.0\n",
      "44 268.0\n",
      "198 262.0\n",
      "198 262.0\n",
      "2566 252.0\n",
      "12237 209.0\n",
      "26421 160.0\n",
      "44 268.0\n",
      "235 260.0\n",
      "235 260.0\n",
      "1272 255.0\n",
      "11864 207.0\n",
      "20344 176.0\n",
      "77 267.0\n",
      "96 266.0\n",
      "96 266.0\n",
      "1861 258.0\n",
      "17189 196.0\n",
      "30517 148.0\n",
      "77 267.0\n",
      "121 265.0\n",
      "121 265.0\n",
      "1121 260.0\n",
      "8897 226.0\n",
      "22409 172.0\n",
      "0 270.0\n",
      "101 266.0\n",
      "101 266.0\n",
      "2093 258.0\n",
      "13429 212.0\n",
      "31117 147.0\n",
      "53 268.0\n",
      "97 266.0\n",
      "142 264.0\n",
      "1454 259.0\n",
      "9451 224.0\n",
      "24523 175.0\n",
      "44 268.0\n",
      "88 266.0\n",
      "109 265.0\n",
      "2610 253.0\n",
      "15010 209.0\n",
      "29906 153.0\n",
      "112 265.0\n",
      "112 265.0\n",
      "131 264.0\n",
      "1283 258.0\n",
      "10611 222.0\n",
      "27675 165.0\n",
      "116 265.0\n",
      "229 260.0\n",
      "229 260.0\n",
      "2229 252.0\n",
      "11525 215.0\n",
      "28181 156.0\n",
      "19 269.0\n",
      "63 267.0\n",
      "105 265.0\n",
      "4235 248.0\n",
      "14344 209.0\n",
      "32696 139.0\n",
      "43 268.0\n",
      "229 259.0\n",
      "305 256.0\n",
      "305 256.0\n",
      "7513 226.0\n",
      "17249 187.0\n",
      "97 266.0\n",
      "228 260.0\n",
      "228 260.0\n",
      "1543 253.0\n",
      "9567 219.0\n",
      "27711 152.0\n",
      "0 270.0\n",
      "34 268.0\n",
      "58 267.0\n",
      "2730 256.0\n",
      "12653 217.0\n",
      "28117 164.0\n",
      "48 268.0\n",
      "67 267.0\n",
      "156 263.0\n",
      "2857 251.0\n",
      "13169 213.0\n",
      "26161 171.0\n",
      "210 262.0\n",
      "265 260.0\n",
      "303 258.0\n",
      "2396 250.0\n",
      "17108 201.0\n",
      "32500 147.0\n",
      "48 268.0\n",
      "101 266.0\n",
      "101 266.0\n",
      "3397 251.0\n",
      "14717 212.0\n",
      "24693 173.0\n",
      "183 263.0\n",
      "221 261.0\n",
      "255 260.0\n",
      "2703 248.0\n",
      "10660 218.0\n",
      "20236 175.0\n",
      "92 266.0\n",
      "92 266.0\n",
      "92 266.0\n",
      "2097 257.0\n",
      "13673 213.0\n",
      "30377 153.0\n",
      "0 270.0\n",
      "0 270.0\n",
      "0 270.0\n",
      "1392 265.0\n",
      "10648 229.0\n",
      "23976 172.0\n",
      "130 265.0\n",
      "170 263.0\n",
      "191 262.0\n",
      "3889 248.0\n",
      "13500 207.0\n",
      "28356 153.0\n",
      "88 266.0\n",
      "133 264.0\n",
      "154 263.0\n",
      "1346 258.0\n",
      "9146 222.0\n",
      "24679 168.0\n",
      "93 266.0\n",
      "183 262.0\n",
      "238 260.0\n",
      "1041 255.0\n",
      "12793 213.0\n",
      "26377 164.0\n",
      "237 261.0\n",
      "346 256.0\n",
      "422 252.0\n",
      "992 247.0\n",
      "10816 208.0\n",
      "30008 137.0\n",
      "48 268.0\n",
      "48 268.0\n",
      "48 268.0\n",
      "1168 265.0\n",
      "14856 207.0\n",
      "29496 155.0\n",
      "24 269.0\n",
      "187 262.0\n",
      "187 262.0\n",
      "2573 253.0\n",
      "12173 213.0\n",
      "26613 163.0\n",
      "68 267.0\n",
      "204 263.0\n",
      "242 261.0\n",
      "3234 248.0\n",
      "10106 223.0\n",
      "25386 166.0\n",
      "74 267.0\n",
      "118 265.0\n",
      "118 265.0\n",
      "2214 254.0\n",
      "13926 212.0\n",
      "31790 149.0\n",
      "0 270.0\n",
      "69 267.0\n",
      "137 264.0\n",
      "2641 255.0\n",
      "13337 214.0\n",
      "25001 174.0\n",
      "24 269.0\n",
      "24 269.0\n",
      "62 267.0\n",
      "3626 251.0\n",
      "13372 212.0\n",
      "28268 162.0\n",
      "0 270.0\n",
      "66 267.0\n",
      "172 263.0\n",
      "2284 256.0\n",
      "12057 213.0\n",
      "26921 164.0\n",
      "44 268.0\n",
      "241 260.0\n",
      "241 260.0\n",
      "790 256.0\n",
      "8374 229.0\n",
      "30630 154.0\n",
      "45 268.0\n",
      "93 266.0\n",
      "165 263.0\n",
      "709 260.0\n",
      "7197 238.0\n",
      "22493 180.0\n",
      "21 269.0\n",
      "69 267.0\n",
      "161 264.0\n",
      "374 262.0\n",
      "5366 241.0\n",
      "18902 192.0\n",
      "72 267.0\n",
      "112 265.0\n",
      "112 265.0\n",
      "2005 257.0\n",
      "12157 217.0\n",
      "24733 174.0\n",
      "145 264.0\n",
      "242 259.0\n",
      "314 256.0\n",
      "1538 250.0\n",
      "8970 215.0\n",
      "22383 166.0\n",
      "21 269.0\n",
      "21 269.0\n",
      "21 269.0\n",
      "2549 255.0\n",
      "10045 221.0\n",
      "26701 156.0\n",
      "24 269.0\n",
      "45 268.0\n",
      "66 267.0\n",
      "762 262.0\n",
      "10341 226.0\n",
      "20805 189.0\n",
      "86 266.0\n",
      "86 266.0\n",
      "86 266.0\n",
      "1379 257.0\n",
      "11363 221.0\n",
      "22022 180.0\n",
      "38 268.0\n",
      "150 263.0\n",
      "228 260.0\n",
      "1081 254.0\n",
      "9529 225.0\n",
      "25537 165.0\n",
      "44 268.0\n",
      "68 267.0\n",
      "89 266.0\n",
      "1080 259.0\n",
      "9272 229.0\n",
      "21984 186.0\n",
      "44 268.0\n",
      "78 267.0\n",
      "102 266.0\n",
      "2750 255.0\n",
      "14450 205.0\n",
      "28018 159.0\n",
      "24 269.0\n",
      "43 268.0\n",
      "43 268.0\n",
      "3451 256.0\n",
      "13083 222.0\n",
      "27235 164.0\n",
      "44 268.0\n",
      "153 263.0\n",
      "153 263.0\n",
      "4570 244.0\n",
      "13356 211.0\n",
      "26148 162.0\n",
      "112 265.0\n",
      "228 260.0\n",
      "262 259.0\n",
      "1363 249.0\n",
      "7302 223.0\n",
      "20638 179.0\n",
      "44 268.0\n",
      "84 266.0\n",
      "118 264.0\n",
      "2094 256.0\n",
      "10491 221.0\n",
      "25627 160.0\n",
      "0 270.0\n",
      "92 266.0\n",
      "136 264.0\n",
      "2357 254.0\n",
      "12181 219.0\n",
      "28133 163.0\n",
      "77 267.0\n",
      "101 266.0\n",
      "166 263.0\n",
      "3414 251.0\n",
      "12462 222.0\n",
      "27742 162.0\n",
      "227 262.0\n",
      "280 260.0\n",
      "301 259.0\n",
      "1043 252.0\n",
      "9947 218.0\n",
      "23379 161.0\n",
      "48 268.0\n",
      "86 266.0\n",
      "86 266.0\n",
      "1622 259.0\n",
      "11766 221.0\n",
      "25958 170.0\n",
      "0 270.0\n",
      "21 269.0\n",
      "45 268.0\n",
      "1645 263.0\n",
      "10909 228.0\n",
      "22477 182.0\n",
      "21 269.0\n",
      "65 267.0\n",
      "65 267.0\n",
      "1886 259.0\n",
      "12454 215.0\n",
      "25886 165.0\n",
      "111 265.0\n",
      "132 264.0\n",
      "176 262.0\n",
      "949 258.0\n",
      "10943 222.0\n",
      "27079 165.0\n",
      "130 265.0\n",
      "189 262.0\n",
      "189 262.0\n",
      "1373 256.0\n",
      "10429 221.0\n",
      "25202 168.0\n",
      "19 269.0\n",
      "19 269.0\n",
      "19 269.0\n",
      "1051 266.0\n",
      "9270 231.0\n",
      "27406 163.0\n",
      "48 268.0\n",
      "120 265.0\n",
      "120 265.0\n",
      "1232 261.0\n",
      "9296 230.0\n",
      "18532 190.0\n",
      "19 269.0\n",
      "155 263.0\n",
      "176 262.0\n",
      "2205 253.0\n",
      "8669 226.0\n",
      "19037 184.0\n",
      "140 265.0\n",
      "140 265.0\n",
      "140 265.0\n",
      "2868 255.0\n",
      "15103 214.0\n",
      "36879 143.0\n",
      "122 265.0\n",
      "122 265.0\n",
      "143 264.0\n",
      "3519 252.0\n",
      "12655 215.0\n",
      "24279 172.0\n"
     ]
    },
    {
     "data": {
      "text/plain": [
       "26152.51"
      ]
     },
     "execution_count": 286,
     "metadata": {},
     "output_type": "execute_result"
    }
   ],
   "source": [
    "average_profit_RLP('Future')"
   ]
  }
 ],
 "metadata": {
  "kernelspec": {
   "display_name": "Python 3",
   "language": "python",
   "name": "python3"
  },
  "language_info": {
   "codemirror_mode": {
    "name": "ipython",
    "version": 3
   },
   "file_extension": ".py",
   "mimetype": "text/x-python",
   "name": "python",
   "nbconvert_exporter": "python",
   "pygments_lexer": "ipython3",
   "version": "3.6.4"
  }
 },
 "nbformat": 4,
 "nbformat_minor": 2
}
